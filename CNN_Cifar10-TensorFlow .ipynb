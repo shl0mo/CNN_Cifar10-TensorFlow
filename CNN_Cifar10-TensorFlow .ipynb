{
  "nbformat": 4,
  "nbformat_minor": 0,
  "metadata": {
    "colab": {
      "name": "CNN_Cifar10-TensorFlow.ipynb",
      "provenance": []
    },
    "kernelspec": {
      "name": "python3",
      "display_name": "Python 3"
    },
    "language_info": {
      "name": "python"
    }
  },
  "cells": [
    {
      "cell_type": "markdown",
      "source": [
        "# Import libraries"
      ],
      "metadata": {
        "id": "ehJ9tlqdI5xp"
      }
    },
    {
      "cell_type": "code",
      "execution_count": null,
      "metadata": {
        "id": "qeQfnKSOw8-S"
      },
      "outputs": [],
      "source": [
        "from tensorflow import keras\n",
        "from keras import layers\n",
        "import matplotlib.pyplot as plt\n",
        "import numpy as np\n",
        "import cv2\n",
        "from google.colab.patches import cv2_imshow"
      ]
    },
    {
      "cell_type": "markdown",
      "source": [
        "# Load database and split it into training set and test set"
      ],
      "metadata": {
        "id": "y7nXBQsIJTlW"
      }
    },
    {
      "cell_type": "code",
      "source": [
        "cifar10 = keras.datasets.cifar10"
      ],
      "metadata": {
        "id": "bSgXmEA388HE"
      },
      "execution_count": null,
      "outputs": []
    },
    {
      "cell_type": "code",
      "source": [
        "(train_images, train_labels), (test_images, test_labels) = cifar10.load_data()"
      ],
      "metadata": {
        "id": "gZWNaEj89DfK"
      },
      "execution_count": null,
      "outputs": []
    },
    {
      "cell_type": "markdown",
      "source": [
        "# Normalize images"
      ],
      "metadata": {
        "id": "uec82t9HJbtL"
      }
    },
    {
      "cell_type": "code",
      "source": [
        "train_images, test_images = train_images/255.0, test_images/255.0"
      ],
      "metadata": {
        "id": "OnF6SpBkA6su"
      },
      "execution_count": null,
      "outputs": []
    },
    {
      "cell_type": "markdown",
      "source": [
        "# Define classes names"
      ],
      "metadata": {
        "id": "q9ogYjWOLNXf"
      }
    },
    {
      "cell_type": "code",
      "source": [
        "class_names = ['airplane', 'automobile', 'bird', 'cat', 'deer', 'dog', 'frog', 'horse', 'ship', 'truck']"
      ],
      "metadata": {
        "id": "sB6xJaV7BF6Q"
      },
      "execution_count": null,
      "outputs": []
    },
    {
      "cell_type": "markdown",
      "source": [
        "# Show a resized image and its corresponding class name"
      ],
      "metadata": {
        "id": "GXB2x-a3Lf86"
      }
    },
    {
      "cell_type": "code",
      "source": [
        "def resize_img(img, scale):\n",
        "  width = int(img.shape[1]*scale/100)\n",
        "  height = int(img.shape[0]*scale/100)\n",
        "  dim = (width, height)\n",
        "  return cv2.resize(img, dim, interpolation = cv2.INTER_AREA)"
      ],
      "metadata": {
        "id": "fHzfax8qGrZv"
      },
      "execution_count": null,
      "outputs": []
    },
    {
      "cell_type": "code",
      "source": [
        "def show_img(i, set_type, scale):\n",
        "  if (set_type == 'train'):\n",
        "    resized_50 = resize_img(train_images[i], scale)\n",
        "    cv2_imshow(resized_50)\n",
        "    class_name = class_names[train_labels[i][0]]\n",
        "    print(class_name)\n",
        "  elif (set_type == 'test'):\n",
        "    resized_50 = resize_img(test_images[i], scale)\n",
        "    cv2_imshow(resized_50)\n",
        "    class_name = class_names[test_labels[i][0]]\n",
        "    print(class_name)"
      ],
      "metadata": {
        "id": "26DEpxo09ZY9"
      },
      "execution_count": null,
      "outputs": []
    },
    {
      "cell_type": "code",
      "source": [
        "show_img(777, 'train', 250)"
      ],
      "metadata": {
        "colab": {
          "base_uri": "https://localhost:8080/",
          "height": 114
        },
        "id": "99HQnrVqCT-2",
        "outputId": "0dac3a12-96f0-43d7-b3a9-2ed9eb3bb89e"
      },
      "execution_count": null,
      "outputs": [
        {
          "output_type": "display_data",
          "data": {
            "text/plain": [
              "<PIL.Image.Image image mode=RGB size=80x80 at 0x7F6FC9BF9C90>"
            ],
            "image/png": "[encoded data removed]"
          },
          "metadata": {}
        },
        {
          "output_type": "stream",
          "name": "stdout",
          "text": [
            "ship\n"
          ]
        }
      ]
    },
    {
      "cell_type": "markdown",
      "source": [
        "# Build CNN"
      ],
      "metadata": {
        "id": "jxCY2LzYQGFC"
      }
    },
    {
      "cell_type": "code",
      "source": [
        "cnn = keras.models.Sequential()\n",
        "cnn.add(layers.Conv2D(filters=32, kernel_size=3, activation='relu', input_shape=(32, 32, 3)))\n",
        "cnn.add(layers.MaxPool2D((2,2)))\n",
        "\n",
        "cnn.add(layers.Conv2D(filters=32, kernel_size=3, activation='relu'))\n",
        "cnn.add(layers.MaxPool2D((2,2)))\n",
        "\n",
        "cnn.add(layers.Flatten())\n",
        "cnn.add(layers.Dense(units=64, activation='relu'))\n",
        "cnn.add(layers.Dense(10))"
      ],
      "metadata": {
        "id": "VdlaOnFxQAFu"
      },
      "execution_count": null,
      "outputs": []
    },
    {
      "cell_type": "markdown",
      "source": [
        "# Compile CNN"
      ],
      "metadata": {
        "id": "SSmHsXZsQ34t"
      }
    },
    {
      "cell_type": "code",
      "source": [
        "loss = keras.losses.SparseCategoricalCrossentropy(from_logits=True)\n",
        "learning_rate = 0.001\n",
        "optmizer = keras.optimizers.Adam(learning_rate)\n",
        "metrics = ['accuracy']"
      ],
      "metadata": {
        "id": "ywqJ7s81R9h9"
      },
      "execution_count": null,
      "outputs": []
    },
    {
      "cell_type": "code",
      "source": [
        "cnn.compile(optimizer=optmizer, loss=loss, metrics=metrics)"
      ],
      "metadata": {
        "id": "hc3CLNKwQ6TY"
      },
      "execution_count": null,
      "outputs": []
    },
    {
      "cell_type": "markdown",
      "source": [
        "#  Train CNN"
      ],
      "metadata": {
        "id": "MiuC03nDRMHZ"
      }
    },
    {
      "cell_type": "code",
      "source": [
        "batch_size = 64\n",
        "epochs = 10\n",
        "cnn.fit(train_images, train_labels, epochs=epochs, verbose=2)"
      ],
      "metadata": {
        "colab": {
          "base_uri": "https://localhost:8080/"
        },
        "id": "sxmKiDV5RRN3",
        "outputId": "69e32bfb-04c7-4d5f-8845-82bd5a03bcd6"
      },
      "execution_count": null,
      "outputs": [
        {
          "output_type": "stream",
          "name": "stdout",
          "text": [
            "Epoch 1/10\n",
            "1563/1563 - 48s - loss: 1.5059 - accuracy: 0.4578 - 48s/epoch - 30ms/step\n",
            "Epoch 2/10\n",
            "1563/1563 - 47s - loss: 1.1608 - accuracy: 0.5910 - 47s/epoch - 30ms/step\n",
            "Epoch 3/10\n",
            "1563/1563 - 47s - loss: 1.0161 - accuracy: 0.6460 - 47s/epoch - 30ms/step\n",
            "Epoch 4/10\n",
            "1563/1563 - 47s - loss: 0.9357 - accuracy: 0.6748 - 47s/epoch - 30ms/step\n",
            "Epoch 5/10\n",
            "1563/1563 - 47s - loss: 0.8765 - accuracy: 0.6950 - 47s/epoch - 30ms/step\n",
            "Epoch 6/10\n",
            "1563/1563 - 47s - loss: 0.8322 - accuracy: 0.7083 - 47s/epoch - 30ms/step\n",
            "Epoch 7/10\n",
            "1563/1563 - 47s - loss: 0.7911 - accuracy: 0.7229 - 47s/epoch - 30ms/step\n",
            "Epoch 8/10\n",
            "1563/1563 - 47s - loss: 0.7584 - accuracy: 0.7347 - 47s/epoch - 30ms/step\n",
            "Epoch 9/10\n",
            "1563/1563 - 48s - loss: 0.7267 - accuracy: 0.7455 - 48s/epoch - 30ms/step\n",
            "Epoch 10/10\n",
            "1563/1563 - 48s - loss: 0.6990 - accuracy: 0.7531 - 48s/epoch - 31ms/step\n"
          ]
        },
        {
          "output_type": "execute_result",
          "data": {
            "text/plain": [
              "<keras.callbacks.History at 0x7f6fcd9e6b50>"
            ]
          },
          "metadata": {},
          "execution_count": 88
        }
      ]
    },
    {
      "cell_type": "markdown",
      "source": [
        "# Testing the CNN"
      ],
      "metadata": {
        "id": "H2EH2rQBTqIO"
      }
    },
    {
      "cell_type": "code",
      "source": [
        "test_index = 467"
      ],
      "metadata": {
        "id": "U2wMBBO3ajDE"
      },
      "execution_count": 135,
      "outputs": []
    },
    {
      "cell_type": "code",
      "source": [
        "test_image = np.expand_dims(test_images[test_index], axis=0)\n",
        "result = cnn.predict(test_image)\n",
        "index = np.where(result[0] == np.max(result[0]))\n",
        "print(class_names[index[0][0]])"
      ],
      "metadata": {
        "colab": {
          "base_uri": "https://localhost:8080/"
        },
        "id": "jINvNuWqXFQg",
        "outputId": "407ef4e3-9de8-4965-998a-6c765a4c0cf4"
      },
      "execution_count": 136,
      "outputs": [
        {
          "output_type": "stream",
          "name": "stdout",
          "text": [
            "cat\n"
          ]
        }
      ]
    },
    {
      "cell_type": "code",
      "source": [
        "(train_images, train_labels), (test_images, test_labels) = cifar10.load_data()"
      ],
      "metadata": {
        "id": "o_GIGK76afYi"
      },
      "execution_count": 112,
      "outputs": []
    },
    {
      "cell_type": "code",
      "source": [
        "show_img(test_index, 'test', 250)"
      ],
      "metadata": {
        "colab": {
          "base_uri": "https://localhost:8080/",
          "height": 114
        },
        "id": "XCVdANEaZ8jI",
        "outputId": "f8b2528b-32d2-468b-b791-6e503d1debc4"
      },
      "execution_count": 137,
      "outputs": [
        {
          "output_type": "display_data",
          "data": {
            "text/plain": [
              "<PIL.Image.Image image mode=RGB size=80x80 at 0x7F6FD70B4BD0>"
            ],
            "image/png": "[encoded data removed]"
          },
          "metadata": {}
        },
        {
          "output_type": "stream",
          "name": "stdout",
          "text": [
            "cat\n"
          ]
        }
      ]
    }
  ]
}