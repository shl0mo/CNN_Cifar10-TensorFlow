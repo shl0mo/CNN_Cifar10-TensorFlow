{
  "nbformat": 4,
  "nbformat_minor": 0,
  "metadata": {
    "colab": {
      "name": "Convolutional_Neural_Network-TensorFlow.ipynb",
      "provenance": []
    },
    "kernelspec": {
      "name": "python3",
      "display_name": "Python 3"
    },
    "language_info": {
      "name": "python"
    }
  },
  "cells": [
    {
      "cell_type": "markdown",
      "source": [
        "# Import libraries"
      ],
      "metadata": {
        "id": "ehJ9tlqdI5xp"
      }
    },
    {
      "cell_type": "code",
      "execution_count": 54,
      "metadata": {
        "id": "qeQfnKSOw8-S"
      },
      "outputs": [],
      "source": [
        "from tensorflow import keras\n",
        "from keras import layers\n",
        "import matplotlib.pyplot as plt\n",
        "import numpy as np\n",
        "import cv2\n",
        "from google.colab.patches import cv2_imshow"
      ]
    },
    {
      "cell_type": "markdown",
      "source": [
        "# Load database and split it into training set and test set"
      ],
      "metadata": {
        "id": "y7nXBQsIJTlW"
      }
    },
    {
      "cell_type": "code",
      "source": [
        "cifar10 = keras.datasets.cifar10"
      ],
      "metadata": {
        "id": "bSgXmEA388HE"
      },
      "execution_count": 3,
      "outputs": []
    },
    {
      "cell_type": "code",
      "source": [
        "(train_images, train_labels), (test_images, test_labels) = cifar10.load_data()"
      ],
      "metadata": {
        "colab": {
          "base_uri": "https://localhost:8080/"
        },
        "id": "gZWNaEj89DfK",
        "outputId": "bb2bb9de-ab15-4743-a0df-57a1ecd50b22"
      },
      "execution_count": 4,
      "outputs": [
        {
          "output_type": "stream",
          "name": "stdout",
          "text": [
            "Downloading data from https://www.cs.toronto.edu/~kriz/cifar-10-python.tar.gz\n",
            "170500096/170498071 [==============================] - 2s 0us/step\n",
            "170508288/170498071 [==============================] - 2s 0us/step\n"
          ]
        }
      ]
    },
    {
      "cell_type": "markdown",
      "source": [
        "# Normalize images"
      ],
      "metadata": {
        "id": "uec82t9HJbtL"
      }
    },
    {
      "cell_type": "code",
      "source": [
        "train_images, test_images = train_images/255.0, test_images/255.0"
      ],
      "metadata": {
        "id": "OnF6SpBkA6su"
      },
      "execution_count": null,
      "outputs": []
    },
    {
      "cell_type": "markdown",
      "source": [
        "# Define classes names"
      ],
      "metadata": {
        "id": "q9ogYjWOLNXf"
      }
    },
    {
      "cell_type": "code",
      "source": [
        "class_names = ['airplane', 'automobile', 'bird', 'cat', 'deer', 'dog', 'frog', 'horse', 'ship', 'truck']"
      ],
      "metadata": {
        "id": "sB6xJaV7BF6Q"
      },
      "execution_count": 9,
      "outputs": []
    },
    {
      "cell_type": "markdown",
      "source": [
        "# Show a resized image and its corresponding class name"
      ],
      "metadata": {
        "id": "GXB2x-a3Lf86"
      }
    },
    {
      "cell_type": "code",
      "source": [
        "def resize_img(img, scale):\n",
        "  width = int(img.shape[1]*scale/100)\n",
        "  height = int(img.shape[0]*scale/100)\n",
        "  dim = (width, height)\n",
        "  return cv2.resize(img, dim, interpolation = cv2.INTER_AREA)"
      ],
      "metadata": {
        "id": "fHzfax8qGrZv"
      },
      "execution_count": 42,
      "outputs": []
    },
    {
      "cell_type": "code",
      "source": [
        "def show_img(i, set_type, scale):\n",
        "  if (set_type == 'train'):\n",
        "    resized_50 = resize_img(train_images[i], scale)\n",
        "    cv2_imshow(resized_50)\n",
        "    class_name = class_names[train_labels[i][0]]\n",
        "    print(class_name)\n",
        "  elif (set_type == 'test'):\n",
        "    resized_50 = resize_img(test_images[i], scale)\n",
        "    cv2_imshow(resized_50)\n",
        "    class_name = class_names[test_labels[i][0]]\n",
        "    print(class_name)"
      ],
      "metadata": {
        "id": "26DEpxo09ZY9"
      },
      "execution_count": 45,
      "outputs": []
    },
    {
      "cell_type": "code",
      "source": [
        "show_img(777, 'train', 250)"
      ],
      "metadata": {
        "colab": {
          "base_uri": "https://localhost:8080/",
          "height": 114
        },
        "id": "99HQnrVqCT-2",
        "outputId": "c27b2203-3816-4e8e-bbaa-e202fbfc23fa"
      },
      "execution_count": 53,
      "outputs": [
        {
          "output_type": "display_data",
          "data": {
            "text/plain": [
              "<PIL.Image.Image image mode=RGB size=80x80 at 0x7F6FCDCC2F90>"
            ],
            "image/png": "[encoded data removed]"
          },
          "metadata": {}
        },
        {
          "output_type": "stream",
          "name": "stdout",
          "text": [
            "ship\n"
          ]
        }
      ]
    }
  ]
}